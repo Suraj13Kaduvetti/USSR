{
 "cells": [
  {
   "cell_type": "markdown",
   "metadata": {},
   "source": [
    "IF Statements"
   ]
  },
  {
   "cell_type": "code",
   "execution_count": 20,
   "metadata": {},
   "outputs": [],
   "source": [
    "import re"
   ]
  },
  {
   "cell_type": "code",
   "execution_count": 21,
   "metadata": {},
   "outputs": [],
   "source": [
    "def check_if_else_syntax(code: str, file_extension: str, file_name: str):\n",
    "    if file_extension == '.py':\n",
    "        if_else_pattern = r\"if\\s*\\(.*\\):[\\s\\S]*?else:[\\s\\S]*?\"\n",
    "        if re.search(if_else_pattern, code):\n",
    "            return f\"The 'if-else' block is found and looks correct in the file: {file_name}\"\n",
    "        else:\n",
    "            return f\"There is no valid 'if-else' block or it has a syntax error in the file: {file_name}\"\n",
    "    \n",
    "    elif file_extension in ['.c', '.cpp', '.java']:\n",
    "        if_else_pattern = r\"if\\s*\\(.*\\)\\s*\\{[\\s\\S]*?\\}\\s*else\\s*\\{[\\s\\S]*?\\}\"\n",
    "        if re.search(if_else_pattern, code):\n",
    "            return f\"The 'if-else' block is found and looks correct in the file: {file_name}\"\n",
    "        else:\n",
    "            return f\"There is no valid 'if-else' block or it has a syntax error in the file: {file_name}\"\n",
    "    \n",
    "    elif file_extension == '.txt':\n",
    "        if_else_pattern = r\"if\\s*\\(.*\\)[^else]*else[^if]*\"\n",
    "        if re.search(if_else_pattern, code):\n",
    "            return f\"The 'if-else' block is found and looks correct in the file: {file_name}\"\n",
    "        else:\n",
    "            return f\"There is no valid 'if-else' block or it has a syntax error in the file: {file_name}\"\n",
    "    \n",
    "    else:\n",
    "        if_else_pattern = r\"if\\s*\\(.*\\)\\s*\\{[\\s\\S]*?\\}\\s*else\\s*\\{[\\s\\S]*?\\}\"\n",
    "        if re.search(if_else_pattern, code):\n",
    "            return f\"The 'if-else' block is found and looks correct in the file: {file_name}\"\n",
    "        else:\n",
    "            return f\"There is no valid 'if-else' block or it has a syntax error in the file: {file_name}\""
   ]
  },
  {
   "cell_type": "code",
   "execution_count": 22,
   "metadata": {},
   "outputs": [],
   "source": [
    "def read_and_check_file(file_path: str):\n",
    "    try:\n",
    "        with open(file_path, 'r') as file:\n",
    "            code = file.read()\n",
    "\n",
    "        file_extension = f'.{file_path.split(\".\")[-1]}'\n",
    "\n",
    "        if 'if' in code and 'else' in code:\n",
    "            print(f\"The file {file_path} contains 'if-else' block.\")\n",
    "            result = check_if_else_syntax(code, file_extension, file_path)\n",
    "            print(result)\n",
    "        else:\n",
    "            print(f\"There is no 'if-else' block in the file {file_path}.\")\n",
    "\n",
    "    except FileNotFoundError:\n",
    "        print(f\"File {file_path} not found.\")\n",
    "    except Exception as e:\n",
    "        print(f\"Error reading the file {file_path}: {str(e)}\")"
   ]
  },
  {
   "cell_type": "code",
   "execution_count": 23,
   "metadata": {},
   "outputs": [
    {
     "name": "stdout",
     "output_type": "stream",
     "text": [
      "The file example.txt contains 'if-else' block.\n",
      "There is no valid 'if-else' block or it has a syntax error in the file: example.txt\n",
      "The file example.py contains 'if-else' block.\n",
      "There is no valid 'if-else' block or it has a syntax error in the file: example.py\n",
      "The file example.c contains 'if-else' block.\n",
      "The 'if-else' block is found and looks correct in the file: example.c\n",
      "The file example.java contains 'if-else' block.\n",
      "The 'if-else' block is found and looks correct in the file: example.java\n"
     ]
    }
   ],
   "source": [
    "if __name__ == \"__main__\":\n",
    "    file_paths = ['example.txt', 'example.py', 'example.c', 'example.java']  # Add other files as needed\n",
    "\n",
    "    for file_path in file_paths:\n",
    "        read_and_check_file(file_path)"
   ]
  }
 ],
 "metadata": {
  "kernelspec": {
   "display_name": "Python 3",
   "language": "python",
   "name": "python3"
  },
  "language_info": {
   "codemirror_mode": {
    "name": "ipython",
    "version": 3
   },
   "file_extension": ".py",
   "mimetype": "text/x-python",
   "name": "python",
   "nbconvert_exporter": "python",
   "pygments_lexer": "ipython3",
   "version": "3.10.8"
  }
 },
 "nbformat": 4,
 "nbformat_minor": 2
}
